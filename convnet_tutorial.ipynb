{
  "nbformat": 4,
  "nbformat_minor": 0,
  "metadata": {
    "colab": {
      "name": "convnet_tutorial.ipynb",
      "provenance": [],
      "collapsed_sections": []
    },
    "kernelspec": {
      "name": "python3",
      "display_name": "Python 3"
    }
  },
  "cells": [
    {
      "cell_type": "code",
      "metadata": {
        "id": "y56H5AIPL2Qv"
      },
      "source": [
        "import matplotlib.pyplot as plt\n",
        "import numpy as np\n",
        "import h5py\n",
        "\n",
        "%load_ext autoreload\n",
        "%autoreload 2\n",
        "\n",
        "%matplotlib inline\n",
        "plt.rcParams['figure.figsize'] = (5.0, 4.0)\n",
        "plt.rcParams['image.interpolation'] = 'nearest'\n",
        "plt.rcParams['image.cmap'] = 'gray'\n",
        "plt.rcParams['figure.facecolor'] = 'white'\n",
        "\n",
        "np.random.seed(1)"
      ],
      "execution_count": null,
      "outputs": []
    },
    {
      "cell_type": "code",
      "metadata": {
        "id": "fVn7Ro8FMc6I"
      },
      "source": [
        "def pad_images(images, pad_size, pad_value=0):\n",
        "    '''Pad with the given value all images of inputs(a batch of image).\n",
        "    The padding is applied to the height and weight of each image.\n",
        "\n",
        "    - Args\n",
        "        images: A batch of m-images of shape (m, n_h_pixels, n_w_pixels, n_channels)\n",
        "        pad_size: Size of padding around each image on vertical and horizontal dimensions\n",
        "        pad_value: Value to pad images; default 0\n",
        "\n",
        "    - Returns\n",
        "        Zero-padded m-images of shape (m, n_h_pixels + 2*pad, n_w_pixels + 2*pad, n_channels)\n",
        "    '''\n",
        "    padded_images = np.pad(images,\n",
        "                           pad_width=((0, 0), (pad_size, pad_size), (pad_size, pad_size), (0, 0)),\n",
        "                           mode='constant',\n",
        "                           constant_values=(pad_value, pad_value))\n",
        "    return padded_images"
      ],
      "execution_count": null,
      "outputs": []
    },
    {
      "cell_type": "code",
      "metadata": {
        "id": "M9Cii2YLQeDo",
        "outputId": "8a346e23-dc5a-45a7-958c-8a864830b261",
        "colab": {
          "base_uri": "https://localhost:8080/",
          "height": 227
        }
      },
      "source": [
        "np.random.seed(3)\n",
        "images = np.random.randn(4, 3, 3, 2)\n",
        "padded_images = pad_images(images, 3)\n",
        "\n",
        "assert images.shape == (4, 3, 3, 2)\n",
        "# assert padded_images.shape == (4, 7, 7, 1)\n",
        "\n",
        "print(f'images.shape={images.shape}')\n",
        "print(f'padded_images.shape={padded_images.shape}')\n",
        "\n",
        "figure, axes = plt.subplots(1, 2)\n",
        "\n",
        "image = images[0, :, :, 0]\n",
        "axes[0].set_title('Original Image')\n",
        "axes[0].imshow(image)\n",
        "\n",
        "padded_image = padded_images[0, :, :, 0]\n",
        "axes[1].set_title('Padded Image')\n",
        "axes[1].imshow(padded_image)\n",
        "plt.show()"
      ],
      "execution_count": null,
      "outputs": [
        {
          "output_type": "stream",
          "text": [
            "images.shape=(4, 3, 3, 2)\n",
            "padded_images.shape=(4, 9, 9, 2)\n"
          ],
          "name": "stdout"
        },
        {
          "output_type": "display_data",
          "data": {
            "image/png": "[encoded data removed]",
            "text/plain": [
              "<Figure size 360x288 with 2 Axes>"
            ]
          },
          "metadata": {
            "tags": []
          }
        }
      ]
    },
    {
      "cell_type": "code",
      "metadata": {
        "id": "dl4S_O8ER-_B"
      },
      "source": [
        "def conv_step(patch_prev, weights, bias):\n",
        "    '''Perform convolution operation using a filter defined by weights on a patch\n",
        "    of the output activation of the previous layer.\n",
        "\n",
        "    - Args\n",
        "        patch_prev: A patch(slice) of the input volume\n",
        "                    of shape (filter_size, filter_size, n_channels_prev)\n",
        "        weights: Weights contained in a window(tensor)\n",
        "                 of shape (filter_size, filter_size, n_channels_prev)\n",
        "        bias: Bias contained in a window of shape (1, 1, 1)\n",
        "\n",
        "    - Returns\n",
        "        z; a scalar.\n",
        "        The result of convoluation operation on the given patch with weights and bias\n",
        "    '''\n",
        "    z = np.multiply(patch_prev, weights) # element-wise product\n",
        "    z = np.sum(z) # add all elements; complete the convolution operation\n",
        "    z = z + float(bias)\n",
        "\n",
        "    return z"
      ],
      "execution_count": null,
      "outputs": []
    },
    {
      "cell_type": "code",
      "metadata": {
        "id": "Zbu1XHl-XCcB",
        "outputId": "b86d26ed-98d1-4a3f-bc69-9e236cb5d095",
        "colab": {
          "base_uri": "https://localhost:8080/",
          "height": 35
        }
      },
      "source": [
        "np.random.seed(1)\n",
        "patch_prev = np.random.randn(4, 4, 3)\n",
        "weights = np.random.randn(4, 4, 3)\n",
        "bias = np.random.randn(1, 1, 1)\n",
        "\n",
        "z = conv_step(patch_prev, weights, bias)\n",
        "print(f'z = {z}')"
      ],
      "execution_count": null,
      "outputs": [
        {
          "output_type": "stream",
          "text": [
            "z = -6.999089450680221\n"
          ],
          "name": "stdout"
        }
      ]
    },
    {
      "cell_type": "code",
      "metadata": {
        "id": "oEVljszsg6-7",
        "outputId": "3417884d-b4b6-4c81-df9d-98bab91e7cba",
        "colab": {
          "base_uri": "https://localhost:8080/",
          "height": 35
        }
      },
      "source": [
        "np.random.seed(1)\n",
        "patch_prev = np.random.randn(4, 4, 3)\n",
        "weights = np.random.randn(4, 4, 3)\n",
        "bias = np.random.randn(1, 1, 1)\n",
        "\n",
        "z = conv_step(patch_prev, weights, bias)\n",
        "print(f'z = {z}')"
      ],
      "execution_count": null,
      "outputs": [
        {
          "output_type": "stream",
          "text": [
            "z = -6.999089450680221\n"
          ],
          "name": "stdout"
        }
      ]
    },
    {
      "cell_type": "code",
      "metadata": {
        "id": "sxkcCgFJXY1w"
      },
      "source": [
        "def conv_forward(A_prev, weights, biases, hparams):\n",
        "    '''Forward propagation for a convolution function.\n",
        "\n",
        "    - Args\n",
        "        A_prev: Output activations of the previous layer\n",
        "                         of shape (m, n_h_pixels_prev, n_w_pixels_prev, n_channels_prev)\n",
        "        weights: Weights of shape (filter_size, filter_size, n_channels_prev, n_channels)\n",
        "        bias: Biases of shape (1, 1, 1, n_channels)\n",
        "        hparams: A dict containing the hyperparameters \"stride\", \"pad_size\", \"pad_value\"\n",
        "\n",
        "    - Returns\n",
        "        Z: The results of convolution operation of shape (m, n_h_pixels, n_w_pixels, n_channels)\n",
        "        chache: Cache of values needed for the backpropagation of convolution operation\n",
        "    '''\n",
        "    (m, n_h_pixels_prev, n_w_pixels_prev, n_channels_prev) = A_prev.shape\n",
        "    (filter_size, filter_size, n_channels_prev, n_channels) = weights.shape\n",
        "    \n",
        "    stride = hparams['stride']\n",
        "    pad_size = hparams['pad_size']\n",
        "    pad_value = hparams['pad_value']\n",
        "\n",
        "    n_h_pixels = ((n_h_pixels_prev + 2*pad_size - filter_size) // stride) + 1\n",
        "    n_w_pixels = ((n_w_pixels_prev + 2*pad_size - filter_size) // stride) + 1\n",
        "    \n",
        "    Z = np.zeros((m, n_h_pixels, n_w_pixels, n_channels))\n",
        "\n",
        "    padded_A_prev = np.pad(A_prev,\n",
        "                            pad_width=((0, 0),\n",
        "                            (pad_size, pad_size),\n",
        "                            (pad_size, pad_size),\n",
        "                            (0, 0)),\n",
        "                            mode='constant',\n",
        "                            constant_values=(pad_value, pad_value))\n",
        "    \n",
        "    # padded_A_prev = pad_zeros(A_prev, pad_size, pad_size, pad_value)\n",
        "    \n",
        "    for i in range(m):\n",
        "        padded_a_prev = padded_A_prev[i]\n",
        "        for h in range(n_h_pixels):\n",
        "            vertical_start = h * stride\n",
        "            vertical_end = vertical_start + filter_size\n",
        "            for w in range(n_w_pixels):\n",
        "                horizontal_start = w * stride\n",
        "                horizontal_end = horizontal_start + filter_size\n",
        "                for c in range(n_channels):\n",
        "                    a_patch_prev = padded_a_prev[vertical_start:vertical_end, horizontal_start:horizontal_end, :]\n",
        "                    weight = weights[:, :, :, c]\n",
        "                    bias = biases[:, :, :, c]\n",
        "                    z = np.multiply(a_patch_prev, weight)\n",
        "                    z = np.sum(z) + float(bias)\n",
        "                    Z[i, h, w, c] = z\n",
        "\n",
        "    assert(Z.shape == (m, n_h_pixels, n_w_pixels, n_channels))\n",
        "    cache = (A_prev, weights, biases, hparams)\n",
        "    \n",
        "    return Z, cache"
      ],
      "execution_count": null,
      "outputs": []
    },
    {
      "cell_type": "code",
      "metadata": {
        "id": "j9UV0IS2G1OB",
        "outputId": "9aacb24c-11ca-4b32-90a9-f404966f5dab",
        "colab": {
          "base_uri": "https://localhost:8080/",
          "height": 90
        }
      },
      "source": [
        "np.random.seed(1)\n",
        "A_prev = np.random.randn(10, 5, 7, 4)\n",
        "weights = np.random.randn(3, 3, 4, 8)\n",
        "biases = np.random.randn(1, 1, 1, 8)\n",
        "hparams = {\n",
        "    'pad_size': 1,\n",
        "    'pad_value': 0,\n",
        "    'stride': 2,\n",
        "}\n",
        "\n",
        "Z, cache = conv_forward(A_prev, weights, biases, hparams)\n",
        "print(f'Z\\'s mean = {np.mean(Z)}')\n",
        "print(f'Z[3, 2, 1] = {Z[3, 2, 1]}')\n",
        "print(f'cache[0][1][2][3] = {cache[0][1][2][3]}')"
      ],
      "execution_count": null,
      "outputs": [
        {
          "output_type": "stream",
          "text": [
            "Z's mean = 0.6923608807576933\n",
            "Z[3, 2, 1] = [-1.28912231  2.27650251  6.61941931  0.95527176  8.25132576  2.31329639\n",
            " 13.00689405  2.34576051]\n",
            "cache[0][1][2][3] = [-1.1191154   1.9560789  -0.3264995  -1.34267579]\n"
          ],
          "name": "stdout"
        }
      ]
    },
    {
      "cell_type": "code",
      "metadata": {
        "id": "1eS4lTMqHus4"
      },
      "source": [
        "def pool_forward(A_prev, hparams, mode='max'):\n",
        "    '''Forward pooling.\n",
        "\n",
        "    - Args\n",
        "        A_prev: Output activations of previous layer of shape (m, n_h_prev, n_w_prev, n_channels_prev)\n",
        "        hparams: A dict containing \"filter_size\" and \"stride\"\n",
        "        mode: The pooling mode to use; \"max\" or \"average\"\n",
        "\n",
        "    - Returns\n",
        "        A: Ouput of the pooling layer of shape (m, n_h_pixels, n_w_pixels, n_channels)\n",
        "        cache: Cache for the backpropagation of the pooling layer contains the input and hyperparameters\n",
        "\n",
        "    '''\n",
        "    (m, n_h_pixels_prev, n_w_pixels_prev, n_channels_prev) = A_prev.shape\n",
        "    filter_size = hparams['filter_size']\n",
        "    stride = hparams['stride']\n",
        "\n",
        "    n_h_pixels = ((n_h_pixels_prev - filter_size) // stride) + 1\n",
        "    n_w_pixels = ((n_w_pixels_prev - filter_size) // stride) + 1\n",
        "    n_channels = n_channels_prev\n",
        "\n",
        "    A = np.zeros((m, n_h_pixels, n_w_pixels, n_channels))\n",
        "\n",
        "    for i in range(m):\n",
        "        for h in range(n_h_pixels):\n",
        "            vertical_start = h * stride\n",
        "            vertical_end = vertical_start + filter_size\n",
        "            for w in range(n_w_pixels):\n",
        "                horizontal_start = w * stride\n",
        "                horizontal_end = horizontal_start + filter_size\n",
        "                for c in range(n_channels):\n",
        "                    a_patch_prev = A_prev[i, vertical_start:vertical_end, horizontal_start:horizontal_end, c]\n",
        "\n",
        "                    if mode == 'max':\n",
        "                        A[i, h, w, c] = np.max(a_patch_prev)\n",
        "                    elif mode == 'average':\n",
        "                        A[i, h, w, c] = np.mean(a_patch_prev)\n",
        "\n",
        "    cache = (A_prev, hparams)\n",
        "    assert(A.shape == (m, n_h_pixels, n_w_pixels, n_channels))\n",
        "    return A, cache"
      ],
      "execution_count": null,
      "outputs": []
    },
    {
      "cell_type": "code",
      "metadata": {
        "id": "GzDtKOapSdEl",
        "outputId": "d2081cf4-d727-497d-8152-b8a0c6669a82",
        "colab": {
          "base_uri": "https://localhost:8080/",
          "height": 981
        }
      },
      "source": [
        "np.random.seed(1)\n",
        "A_prev = np.random.randn(2, 5, 5, 3)\n",
        "hparams = {\n",
        "    'stride': 1,\n",
        "    'filter_size': 3,\n",
        "}\n",
        "A, cache = pool_forward(A_prev, hparams)\n",
        "print('mode = max')\n",
        "print(f'A.shape = {A.shape}')\n",
        "print(f'A = {A}')\n",
        "print()\n",
        "\n",
        "A, cache = pool_forward(A_prev, hparams, mode='average')\n",
        "print('mode = average')\n",
        "print(f'A.shape = {A.shape}')\n",
        "print(f'A = {A}')"
      ],
      "execution_count": null,
      "outputs": [
        {
          "output_type": "stream",
          "text": [
            "mode = max\n",
            "A.shape = (2, 3, 3, 3)\n",
            "A = [[[[1.74481176 0.90159072 1.65980218]\n",
            "   [1.74481176 1.46210794 1.65980218]\n",
            "   [1.74481176 1.6924546  1.65980218]]\n",
            "\n",
            "  [[1.14472371 0.90159072 2.10025514]\n",
            "   [1.14472371 0.90159072 1.65980218]\n",
            "   [1.14472371 1.6924546  1.65980218]]\n",
            "\n",
            "  [[1.13162939 1.51981682 2.18557541]\n",
            "   [1.13162939 1.51981682 2.18557541]\n",
            "   [1.13162939 1.6924546  2.18557541]]]\n",
            "\n",
            "\n",
            " [[[1.19891788 0.84616065 0.82797464]\n",
            "   [0.69803203 0.84616065 1.2245077 ]\n",
            "   [0.69803203 1.12141771 1.2245077 ]]\n",
            "\n",
            "  [[1.96710175 0.84616065 1.27375593]\n",
            "   [1.96710175 0.84616065 1.23616403]\n",
            "   [1.62765075 1.12141771 1.2245077 ]]\n",
            "\n",
            "  [[1.96710175 0.86888616 1.27375593]\n",
            "   [1.96710175 0.86888616 1.23616403]\n",
            "   [1.62765075 1.12141771 0.79280687]]]]\n",
            "\n",
            "mode = average\n",
            "A.shape = (2, 3, 3, 3)\n",
            "A = [[[[-3.01046719e-02 -3.24021315e-03 -3.36298859e-01]\n",
            "   [ 1.43310483e-01  1.93146751e-01 -4.44905196e-01]\n",
            "   [ 1.28934436e-01  2.22428468e-01  1.25067597e-01]]\n",
            "\n",
            "  [[-3.81801899e-01  1.59993515e-02  1.70562706e-01]\n",
            "   [ 4.73707165e-02  2.59244658e-02  9.20338402e-02]\n",
            "   [ 3.97048605e-02  1.57189094e-01  3.45302489e-01]]\n",
            "\n",
            "  [[-3.82680519e-01  2.32579951e-01  6.25997903e-01]\n",
            "   [-2.47157416e-01 -3.48524998e-04  3.50539717e-01]\n",
            "   [-9.52551510e-02  2.68511000e-01  4.66056368e-01]]]\n",
            "\n",
            "\n",
            " [[[-1.73134159e-01  3.23771981e-01 -3.43175716e-01]\n",
            "   [ 3.80634669e-02  7.26706274e-02 -2.30268958e-01]\n",
            "   [ 2.03009393e-02  1.41414785e-01 -1.23158476e-02]]\n",
            "\n",
            "  [[ 4.44976963e-01 -2.61694592e-03 -3.10403073e-01]\n",
            "   [ 5.08114737e-01 -2.34937338e-01 -2.39611830e-01]\n",
            "   [ 1.18726772e-01  1.72552294e-01 -2.21121966e-01]]\n",
            "\n",
            "  [[ 4.29449255e-01  8.44699612e-02 -2.72909051e-01]\n",
            "   [ 6.76351685e-01 -1.20138225e-01 -2.44076712e-01]\n",
            "   [ 1.50774518e-01  2.89111751e-01  1.23238536e-03]]]]\n"
          ],
          "name": "stdout"
        }
      ]
    },
    {
      "cell_type": "code",
      "metadata": {
        "id": "dzE-ypWtrF5Q",
        "outputId": "6d58e369-8ce8-474f-d99e-3f2b318f241b",
        "colab": {
          "base_uri": "https://localhost:8080/",
          "height": 545
        }
      },
      "source": [
        "np.random.seed(1)\n",
        "A_prev = np.random.randn(2, 5, 5, 3)\n",
        "hparams = {\n",
        "    'stride': 2,\n",
        "    'filter_size': 3,\n",
        "}\n",
        "\n",
        "A, cache = pool_forward(A_prev, hparams)\n",
        "print('mode = max')\n",
        "print(f'A.shape = {A.shape}')\n",
        "print(f'A = {A}')\n",
        "print()\n",
        "\n",
        "A, cache = pool_forward(A_prev, hparams, mode='average')\n",
        "print('mode = average')\n",
        "print(f'A.shape = {A.shape}')\n",
        "print(f'A = {A}')"
      ],
      "execution_count": null,
      "outputs": [
        {
          "output_type": "stream",
          "text": [
            "mode = max\n",
            "A.shape = (2, 2, 2, 3)\n",
            "A = [[[[1.74481176 0.90159072 1.65980218]\n",
            "   [1.74481176 1.6924546  1.65980218]]\n",
            "\n",
            "  [[1.13162939 1.51981682 2.18557541]\n",
            "   [1.13162939 1.6924546  2.18557541]]]\n",
            "\n",
            "\n",
            " [[[1.19891788 0.84616065 0.82797464]\n",
            "   [0.69803203 1.12141771 1.2245077 ]]\n",
            "\n",
            "  [[1.96710175 0.86888616 1.27375593]\n",
            "   [1.62765075 1.12141771 0.79280687]]]]\n",
            "\n",
            "mode = average\n",
            "A.shape = (2, 2, 2, 3)\n",
            "A = [[[[-0.03010467 -0.00324021 -0.33629886]\n",
            "   [ 0.12893444  0.22242847  0.1250676 ]]\n",
            "\n",
            "  [[-0.38268052  0.23257995  0.6259979 ]\n",
            "   [-0.09525515  0.268511    0.46605637]]]\n",
            "\n",
            "\n",
            " [[[-0.17313416  0.32377198 -0.34317572]\n",
            "   [ 0.02030094  0.14141479 -0.01231585]]\n",
            "\n",
            "  [[ 0.42944926  0.08446996 -0.27290905]\n",
            "   [ 0.15077452  0.28911175  0.00123239]]]]\n"
          ],
          "name": "stdout"
        }
      ]
    },
    {
      "cell_type": "code",
      "metadata": {
        "id": "LTDldwNJxv4Z"
      },
      "source": [
        "def conv_backward(dZ, cache):\n",
        "    '''Backwardpropagation for a convolution function.\n",
        "\n",
        "    - Args\n",
        "        dZ: Gradient of the cost with respect to the output of the conv layer (Z)\n",
        "            of shape (m, n_h_pixels, n_w_pixels, n_channels)\n",
        "        cache: Cache of values for the convolution backpropagation, output of convolution forwardpropagation\n",
        "    \n",
        "    - Returns\n",
        "        dA_prev: Gradient of the cost with respect to the input of the convolutional layer (A_prev)\n",
        "                 shape of (m, n_h_pixels_prev, n_w_pixels_prev, n_channels_prev)\n",
        "        dW: Gradient of the cost with respect to the input of the convolutional layer (W)\n",
        "            shape of (filter_size, filter_size, n_channels_prev, n_channels)\n",
        "        db: Gradient of the cost with respect to the input of the convolutional layer (b)\n",
        "            shape of (1, 1, 1, n_channels)\n",
        "    '''\n",
        "    (A_prev, W, b, hparams) = cache\n",
        "    (m, n_h_pixels_prev, n_w_pixels_prev, n_channels_prev) = A_prev.shape\n",
        "    (filter_size, filter_size, n_channels_prev, n_channels) = W.shape\n",
        "    \n",
        "    stride = hparams['stride']\n",
        "    pad_size = hparams['pad_size']\n",
        "\n",
        "    (m, n_h_pixels, n_w_pixels, n_channels) = dZ.shape\n",
        "\n",
        "    dA_prev = np.zeros_like(A_prev)\n",
        "    dW = np.zeros_like(W)\n",
        "    db = np.zeros_like(b)\n",
        "\n",
        "    padded_A_prev = pad_images(A_prev, pad_size)\n",
        "    dpadded_A_prev = pad_images(dA_prev, pad_size)\n",
        "\n",
        "    for i in range(m):\n",
        "        padded_a_prev = padded_A_prev[i]\n",
        "        dpadded_a_prev = dpadded_A_prev[i]\n",
        "\n",
        "        for h in range(n_h_pixels):\n",
        "            for w in range(n_w_pixels):\n",
        "                for c in range(n_channels):\n",
        "                    vertical_start = h * stride\n",
        "                    vertical_end = vertical_start + filter_size\n",
        "                    horizontal_start = w * stride\n",
        "                    horizontal_end = horizontal_start + filter_size\n",
        "\n",
        "                    a_patch_prev = padded_a_prev[vertical_start:vertical_end, horizontal_start:horizontal_end, :]\n",
        "                    dpadded_a_prev[vertical_start:vertical_end, horizontal_start:horizontal_end, :] += W[:, :, :, c] * dZ[i, h, w, c]\n",
        "                    dW[:, :, :, c] += a_patch_prev * dZ[i, h, w, c]\n",
        "                    db[:, :, :, c] += dZ[i, h, w, c]\n",
        "\n",
        "        dA_prev[i, :, :, :] = dpadded_a_prev[pad_size:-pad_size, pad_size:-pad_size, :]\n",
        "    assert(dA_prev.shape == (m, n_h_pixels_prev, n_w_pixels_prev, n_channels_prev))\n",
        "\n",
        "    return dA_prev, dW, db"
      ],
      "execution_count": null,
      "outputs": []
    },
    {
      "cell_type": "code",
      "metadata": {
        "id": "3vO-D6vxmwrD",
        "outputId": "77b0f10d-631d-409d-e311-9a61664a358b",
        "colab": {
          "base_uri": "https://localhost:8080/",
          "height": 72
        }
      },
      "source": [
        "np.random.seed(1)\n",
        "A_prev = np.random.randn(10, 4, 4, 3)\n",
        "W = np.random.randn(2, 2, 3, 8)\n",
        "b = np.random.randn(1, 1, 1, 8)\n",
        "hparams = {'pad_size': 2,\n",
        "           'pad_value': 0,\n",
        "           'stride': 2}\n",
        "Z, cache = conv_forward(A_prev, W, b, hparams)\n",
        "\n",
        "dA, dW, db = conv_backward(Z, cache)\n",
        "print(\"dA_mean =\", np.mean(dA))\n",
        "print(\"dW_mean =\", np.mean(dW))\n",
        "print(\"db_mean =\", np.mean(db))"
      ],
      "execution_count": null,
      "outputs": [
        {
          "output_type": "stream",
          "text": [
            "dA_mean = 1.4524377775388075\n",
            "dW_mean = 1.7269914583139097\n",
            "db_mean = 7.839232564616838\n"
          ],
          "name": "stdout"
        }
      ]
    },
    {
      "cell_type": "code",
      "metadata": {
        "id": "8sgShAjN9t8m"
      },
      "source": [
        "def create_mask_from_window(x):\n",
        "    '''Creates a mask from input matrix x to identify the max entry of it.\n",
        "    \n",
        "    - Args\n",
        "        x: Numpy array of shape (filter_size, filter_size)\n",
        "\n",
        "    - Returns\n",
        "        mask: Numpy array of the same shape as window, contains a True at the\n",
        "              position corresponding to the max entry of matrix x\n",
        "    '''\n",
        "    mask = (x == np.max(x))\n",
        "\n",
        "    return mask"
      ],
      "execution_count": null,
      "outputs": []
    },
    {
      "cell_type": "code",
      "metadata": {
        "id": "M5fzwt_2AkRJ",
        "outputId": "6e352e22-30cf-4713-ee06-5661e98f6906",
        "colab": {
          "base_uri": "https://localhost:8080/",
          "height": 90
        }
      },
      "source": [
        "np.random.seed(1)\n",
        "x = np.random.randn(2, 3)\n",
        "mask = create_mask_from_window(x)\n",
        "print(f'x = {x}')\n",
        "print(f'mask = {mask}')"
      ],
      "execution_count": null,
      "outputs": [
        {
          "output_type": "stream",
          "text": [
            "x = [[ 1.62434536 -0.61175641 -0.52817175]\n",
            " [-1.07296862  0.86540763 -2.3015387 ]]\n",
            "mask = [[ True False False]\n",
            " [False False False]]\n"
          ],
          "name": "stdout"
        }
      ]
    },
    {
      "cell_type": "code",
      "metadata": {
        "id": "ZI2rZp4LAvaV"
      },
      "source": [
        "def distribute_contribution(dz, shape):\n",
        "    '''Distribute the input value in the matrix of dimension shape\n",
        "    \n",
        "    - Args\n",
        "        dz: input scalar\n",
        "        shape: The shape of the output matrix (n_h_pixels, n_w_pixels)\n",
        "               for which we want to distribute the value of dz\n",
        "    - Returns\n",
        "        distributed_array: Array of size (n_h_pixels, n_w_pixels) for which we distributed\n",
        "                           the value of dz\n",
        "    '''\n",
        "    n_h_pixels, n_w_pixels = shape\n",
        "    average = dz / (n_h_pixels * n_w_pixels)\n",
        "    distributed_array = np.ones((n_h_pixels, n_w_pixels)) * average\n",
        "    \n",
        "    return distributed_array"
      ],
      "execution_count": null,
      "outputs": []
    },
    {
      "cell_type": "code",
      "metadata": {
        "id": "ts-LBGCYNmqt",
        "outputId": "f05c49e2-8a51-420c-8b75-d5102fc8680a",
        "colab": {
          "base_uri": "https://localhost:8080/",
          "height": 54
        }
      },
      "source": [
        "a = distribute_contribution(dz=2, shape=(2, 2))\n",
        "print(f'Distributed value = {a}')"
      ],
      "execution_count": null,
      "outputs": [
        {
          "output_type": "stream",
          "text": [
            "Distributed value = [[0.5 0.5]\n",
            " [0.5 0.5]]\n"
          ],
          "name": "stdout"
        }
      ]
    },
    {
      "cell_type": "code",
      "metadata": {
        "id": "OVNI_pu1ObhH"
      },
      "source": [
        "def pool_backward(dA, cache, mode='max'):\n",
        "    '''Backpropagation of the pooling layer.\n",
        "\n",
        "    - Args\n",
        "        dA: Gradient of cost with respect to the output of the pooling layer; same shape as A\n",
        "        cache: Cache output from the forward propagation of the pooling layer; contains layer's input and hyperparameters\n",
        "        mode: Pooling mode (\"max\" or \"average\")\n",
        "\n",
        "    - Returns\n",
        "        dA_prev: Gradient of cost with respect to the input of the pooling layer; same shape as A_prev\n",
        "    '''\n",
        "    A_prev, hparams = cache\n",
        "    stride = hparams['stride']\n",
        "    filter_size = hparams['filter_size']\n",
        "\n",
        "    m, n_h_pixels_prev, n_w_pixels_prev, n_channels = A_prev.shape\n",
        "    m, n_h_pixels, n_w_pixels, n_channels = dA.shape\n",
        "    \n",
        "    dA_prev = np.zeros_like(A_prev)\n",
        "\n",
        "    for i in range(m):\n",
        "        a_prev = A_prev[i]\n",
        "\n",
        "        for h in range(n_h_pixels):\n",
        "            for w in range(n_w_pixels):\n",
        "                for c in range(n_channels):\n",
        "\n",
        "                    vertical_start = h * stride\n",
        "                    vertical_end = vertical_start + filter_size\n",
        "                    \n",
        "                    horizontal_start = w * stride\n",
        "                    horizontal_end = horizontal_start + filter_size\n",
        "\n",
        "                    if mode == 'max':\n",
        "                        patch_a_prev = a_prev[vertical_start:vertical_end, horizontal_start:horizontal_end, c]\n",
        "                        mask = create_mask_from_window(patch_a_prev)\n",
        "                        dA_prev[i, vertical_start:vertical_end, horizontal_start:horizontal_end, c] += mask * dA[i, h, w, c]\n",
        "                    \n",
        "                    elif mode == 'average':\n",
        "                        da = dA[i, h, w, c]\n",
        "                        shape = (filter_size, filter_size)\n",
        "                        dA_prev[i, vertical_start:vertical_end, horizontal_start:horizontal_end, c] += distribute_contribution(da, shape)\n",
        "    assert(dA_prev.shape == A_prev.shape)\n",
        "\n",
        "    return dA_prev"
      ],
      "execution_count": null,
      "outputs": []
    },
    {
      "cell_type": "code",
      "metadata": {
        "id": "4QQ-VjDbrbtP",
        "outputId": "638cd493-38ab-4887-ab3b-865daf2fb89f",
        "colab": {
          "base_uri": "https://localhost:8080/",
          "height": 217
        }
      },
      "source": [
        "np.random.seed(1)\n",
        "A_prev = np.random.randn(5, 5, 3, 2)\n",
        "hparams = {\"stride\" : 1, \"filter_size\": 2}\n",
        "A, cache = pool_forward(A_prev, hparams)\n",
        "dA = np.random.randn(5, 4, 2, 2)\n",
        "\n",
        "dA_prev = pool_backward(dA, cache, mode = \"max\")\n",
        "print(\"mode = max\")\n",
        "print('mean of dA = ', np.mean(dA))\n",
        "print('dA_prev[1,1] = ', dA_prev[1,1])  \n",
        "print()\n",
        "dA_prev = pool_backward(dA, cache, mode = \"average\")\n",
        "print(\"mode = average\")\n",
        "print('mean of dA = ', np.mean(dA))\n",
        "print('dA_prev[1,1] = ', dA_prev[1,1]) "
      ],
      "execution_count": null,
      "outputs": [
        {
          "output_type": "stream",
          "text": [
            "mode = max\n",
            "mean of dA =  0.14571390272918056\n",
            "dA_prev[1,1] =  [[ 0.          0.        ]\n",
            " [ 5.05844394 -1.68282702]\n",
            " [ 0.          0.        ]]\n",
            "\n",
            "mode = average\n",
            "mean of dA =  0.14571390272918056\n",
            "dA_prev[1,1] =  [[ 0.08485462  0.2787552 ]\n",
            " [ 1.26461098 -0.25749373]\n",
            " [ 1.17975636 -0.53624893]]\n"
          ],
          "name": "stdout"
        }
      ]
    },
    {
      "cell_type": "code",
      "metadata": {
        "id": "9WlOC7Ujri8U"
      },
      "source": [
        ""
      ],
      "execution_count": null,
      "outputs": []
    }
  ]
}