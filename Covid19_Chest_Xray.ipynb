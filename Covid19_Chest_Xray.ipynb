{
 "cells": [
  {
   "cell_type": "markdown",
   "metadata": {},
   "source": [
    "## Covid19 Chest Xray Classifier Tutorial"
   ]
  },
  {
   "cell_type": "markdown",
   "metadata": {},
   "source": [
    "## 0. common Import"
   ]
  },
  {
   "cell_type": "code",
   "execution_count": 2,
   "metadata": {},
   "outputs": [
    {
     "ename": "ModuleNotFoundError",
     "evalue": "No module named 'matplotlib'",
     "output_type": "error",
     "traceback": [
      "\u001b[0;31m---------------------------------------------------------------------------\u001b[0m",
      "\u001b[0;31mModuleNotFoundError\u001b[0m                       Traceback (most recent call last)",
      "\u001b[0;32m<ipython-input-2-d4722bebe6cd>\u001b[0m in \u001b[0;36m<module>\u001b[0;34m\u001b[0m\n\u001b[1;32m      4\u001b[0m \u001b[0;31m##---------------------------------표준라이브러리\u001b[0m\u001b[0;34m\u001b[0m\u001b[0;34m\u001b[0m\u001b[0;34m\u001b[0m\u001b[0m\n\u001b[1;32m      5\u001b[0m \u001b[0;34m\u001b[0m\u001b[0m\n\u001b[0;32m----> 6\u001b[0;31m \u001b[0;32mimport\u001b[0m \u001b[0mmatplotlib\u001b[0m\u001b[0;34m.\u001b[0m\u001b[0mpyplot\u001b[0m \u001b[0;32mas\u001b[0m \u001b[0mplt\u001b[0m\u001b[0;34m\u001b[0m\u001b[0;34m\u001b[0m\u001b[0m\n\u001b[0m\u001b[1;32m      7\u001b[0m \u001b[0;32mimport\u001b[0m \u001b[0mnumpy\u001b[0m \u001b[0;32mas\u001b[0m \u001b[0mnp\u001b[0m\u001b[0;34m\u001b[0m\u001b[0;34m\u001b[0m\u001b[0m\n\u001b[1;32m      8\u001b[0m \u001b[0;32mimport\u001b[0m \u001b[0mtorch\u001b[0m \u001b[0;31m#파이토치 라이브러리\u001b[0m\u001b[0;34m\u001b[0m\u001b[0;34m\u001b[0m\u001b[0m\n",
      "\u001b[0;31mModuleNotFoundError\u001b[0m: No module named 'matplotlib'"
     ]
    }
   ],
   "source": [
    "import os #ls, cd, mkdir 같은 명령을 사용하게 하는거 \n",
    "import random\n",
    "import shutil # file관련된 사용 을 돕는 라이브러리\n",
    "##---------------------------------표준라이브러리\n",
    "\n",
    "import matplotlib.pyplot as plt\n",
    "import numpy as np\n",
    "import torch #파이토치 라이브러리\n",
    "import torchvision #비전관련된 모델을 사용하도록 특화\n",
    "torch.manual_seed(24)\n",
    "\n",
    "#모델에서 특정 함수만 쓰고싶을 경우 from사용\n",
    "from PIL import Image\n",
    "from torchvision import transforms as T"
   ]
  },
  {
   "cell_type": "markdown",
   "metadata": {},
   "source": [
    "## 1. Prepare Training & Test Sets"
   ]
  },
  {
   "cell_type": "code",
   "execution_count": null,
   "metadata": {},
   "outputs": [],
   "source": [
    "ROOT_DIR = os.path.abspath('.') #경로 저장, '.'의 .은 현재위치를 말함\n",
    "DATA_DIR = os.path.join(ROOT_DIR,'datasets')\n",
    "TEST_DIR = os.path.join(DATA_DIR, 'test')\n",
    "os.makedirs(TEST_DIR, exist_ok=True)#exist_ok=True 만들고자하는 폴더의 이름이 있을경우 그대로 둔다\n",
    "\n",
    "classes = ['normal','viral','covid']\n",
    "\n",
    "for class_ in classes:\n",
    "    start_dir = os.path.join(DATA_DIR, class_)\n",
    "    target_dir = os.path.join(TEST_DIR, class_)\n",
    "    if not os.path.exists(target_dir):\n",
    "        os.makedirs(target_dir, exist_ok = True)\n",
    "        images = os.listdir(start_dir)\n",
    "        images = [image for image in images if image.lower().endswith('png')] #endswith 는 문자열이 있는지 확인해준다.\n",
    "        sampled_images = random.sample(images, 30) #images 에서 30 개만 뽑아온다\n",
    "        for image in sampled_images:\n",
    "            start_path = os.path.join(start_dir, image) #파일명으로 해당 파일의 위치를 가져옴\n",
    "            target_path = os.path.join(target_dir, image)\n",
    "            shutil.move(start_path, target_path)"
   ]
  },
  {
   "cell_type": "markdown",
   "metadata": {},
   "source": [
    "## 2.Define Custom Dataset"
   ]
  },
  {
   "cell_type": "code",
   "execution_count": null,
   "metadata": {},
   "outputs": [],
   "source": [
    "train_dirs = {\n",
    "    'normal': os.path.join(DATA_DIR,'normal'),\n",
    "    'viral': os.path.join(DATA_DIR,'viral'),\n",
    "    'covid': os.path.join(DATA_DIR,'covid')\n",
    "}\n",
    "transform = []\n",
    "train_dataset = CovidCXRDataset(train_dirs,transform)"
   ]
  },
  {
   "cell_type": "code",
   "execution_count": null,
   "metadata": {},
   "outputs": [],
   "source": [
    "# #getintem 사용하는 이유!\n",
    "# class CustomContainer:\n",
    "#     def __init__(self, container):\n",
    "#         self.container = container \n",
    "#     def __len__(self):\n",
    "#         return len(self.container) #주소만 출력됨 그래서 repr을 사용\n",
    "#     def __repr__(self): \n",
    "#         return f'CustomContainer: {self.container}' #이대로만 하면 내부의 원소는 출력 안됨 그래서 getitem사용\n",
    "#     def __getitem__(self,index):\n",
    "#         return self.container[index]\n",
    "# a = [1,2,3]    \n",
    "# container = CustomContainer(a)\n",
    "# print(container[1])"
   ]
  },
  {
   "cell_type": "code",
   "execution_count": null,
   "metadata": {},
   "outputs": [],
   "source": [
    "class CovidCXRDataset(torch.utils.data.Dataset):\n",
    "    def __init__(self, image_dirs, transform):\n",
    "        self.images = {} \n",
    "        self.classes = ['normal','viral','covid']\n",
    "        self.image_dirs = image_dirs # == train_dirs\n",
    "        self.transform = transform\n",
    "    #함수를 정의하는데, 이름은 get_images이고, 가져올 이미지들의 클래스를 인자로 받는다.\n",
    "    #인자(argument; args) 파라미터(parameter; params)\n",
    "        for class_ in self.classes: #1. class_ = 'normal'\n",
    "            self.images[class_] = self.get_images(class_)\n",
    "            #self.images['normal'] = self.get_images('normal')\n",
    "            \n",
    "    def get_images(self, class_): #'normal'이라는 값이 오면 self.image_dirs['normal'] ->경로가 설정되어있다.\n",
    "        images = os.listdir(self.image_dirs[class_])\n",
    "        #images = os.listdir(self.image_dirs['normal']) 여기서 image_dirs 이미지의 경로를 담았었다.\n",
    "        #self.image_dirs == train_dirs\n",
    "        images = [image for image in images\n",
    "                 if image.lower().endswith('png')]#파이썬 안에서는 괄호안에서는 줄바꿈이 일어나도 에러가 나지않는다.\n",
    "        print(f'Found {len(images)} {class_} examples')\n",
    "        # Found 30 normal examples\n",
    "        return images\n",
    "#     self.images['normal'] -> normal이라는 폴더의 이미지를 가져온다\n",
    "\n",
    "    def __len__(self):\n",
    "        return sum([len(self.images[class_])\n",
    "                    for class_ in self.classes]) #1. normal, 2.viral, 3.covid\n",
    "    \n",
    "    \n",
    "    def __getitem__(self, index):\n",
    "        # Pick class -> which?? 1.normal, 2.viral, 3.covid\n",
    "        sampled_class = random.choice(self.classes)\n",
    "        n_samples = len(self.images[sampled_class]) #Number of samples\n",
    "        \n",
    "        index = index % n_samples\n",
    "        image_name = self.images[sampled_class] #sampled_class == 'normal' 이라면 그안에서 선정된 파일 명을 가져온다\n",
    "        image_dir = self.image_dirs[sampled_class] #image_name의 파일이 있는 경로\n",
    "        image_path = os.path.join(image_dir, image_name) #파일 이름과 경로를 붙여준다.\n",
    "        image = Image.open(image_path).convert('RGB') #이미지 경로를 찾아가서 convert('RGB')사용해서 이미지객체로 만들어라\n",
    "        return self.transform(image), self.classes.index(sampled_class) #index 가져오기\n",
    "        #(Image_normal, 0)\n",
    "        #(Image_covid, 2)\n",
    "        #(Image_viral, 1)....으로 데이터셋 을 만든다"
   ]
  },
  {
   "cell_type": "markdown",
   "metadata": {},
   "source": [
    "## 3. Create DataLoader"
   ]
  },
  {
   "cell_type": "code",
   "execution_count": null,
   "metadata": {},
   "outputs": [],
   "source": [
    "train_transform = T.compose([\n",
    "    T.resize(size=(224,224)), #resnet의 입력크기는 224x224 라서 그에 맞게 변경해준다.\n",
    "    T.RandomHorizontalFlip(),#data augmentation 데이터에 약간의 변화를 줘서 과대적합을 막는다.\n",
    "    T.ToTensor(), #이미지객체를 텐서로 전환 그래서 to tensor\n",
    "    T.Normalize(mean = [0.485, 0.456, 0.406],\n",
    "               std = [0.229, 0.224, 0.225]), # rgb 에 맞게 std를 red -> 0.229 green -> 0.224 ... 이런식으로 적용\n",
    "])"
   ]
  }
 ],
 "metadata": {
  "kernelspec": {
   "display_name": "Python 3",
   "language": "python",
   "name": "python3"
  },
  "language_info": {
   "codemirror_mode": {
    "name": "ipython",
    "version": 3
   },
   "file_extension": ".py",
   "mimetype": "text/x-python",
   "name": "python",
   "nbconvert_exporter": "python",
   "pygments_lexer": "ipython3",
   "version": "3.8.5"
  }
 },
 "nbformat": 4,
 "nbformat_minor": 4
}
