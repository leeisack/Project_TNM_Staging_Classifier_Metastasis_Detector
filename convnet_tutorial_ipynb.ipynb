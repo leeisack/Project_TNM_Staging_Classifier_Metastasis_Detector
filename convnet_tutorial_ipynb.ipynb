{
  "nbformat": 4,
  "nbformat_minor": 0,
  "metadata": {
    "colab": {
      "name": "convnet_tutorial.ipynb의 사본",
      "provenance": [],
      "collapsed_sections": []
    },
    "kernelspec": {
      "name": "python3",
      "display_name": "Python 3"
    }
  },
  "cells": [
    {
      "cell_type": "code",
      "metadata": {
        "id": "y56H5AIPL2Qv"
      },
      "source": [
        "import matplotlib.pyplot as plt\n",
        "import numpy as np\n",
        "import h5py\n",
        "\n",
        "%load_ext autoreload\n",
        "%autoreload 2\n",
        "\n",
        "%matplotlib inline\n",
        "plt.rcParams['figure.figsize'] = (5.0, 4.0)\n",
        "plt.rcParams['image.interpolation'] = 'nearest'\n",
        "plt.rcParams['image.cmap'] = 'gray'\n",
        "plt.rcParams['figure.facecolor'] = 'white'\n",
        "\n",
        "np.random.seed(1)"
      ],
      "execution_count": 2,
      "outputs": []
    },
    {
      "cell_type": "code",
      "metadata": {
        "id": "fVn7Ro8FMc6I"
      },
      "source": [
        "def pad_images(images, pad_size, pad_value=0):\n",
        "    '''Pad with the given value all images of inputs(a batch of image).\n",
        "    The padding is applied to the height and weight of each image.\n",
        "\n",
        "    - Args\n",
        "        images: A batch of m-images of shape (m, n_h_pixels, n_w_pixels, n_channels)\n",
        "        pad_size: Size of padding around each image on vertical and horizontal dimensions\n",
        "        pad_value: Value to pad images; default 0\n",
        "\n",
        "    - Returns\n",
        "        Zero-padded m-images of shape (m, n_h_pixels + 2*pad, n_w_pixels + 2*pad, n_channels)\n",
        "    '''\n",
        "    padded_images = np.pad(images,\n",
        "                           pad_width=((0, 0), (pad_size, pad_size), (pad_size, pad_size), (0, 0)),\n",
        "                           mode='constant',\n",
        "                           constant_values=(pad_value, pad_value))\n",
        "    return padded_images"
      ],
      "execution_count": 3,
      "outputs": []
    },
    {
      "cell_type": "code",
      "metadata": {
        "id": "M9Cii2YLQeDo",
        "outputId": "7dc53cc6-ab27-411a-eb68-eb558fda5922",
        "colab": {
          "base_uri": "https://localhost:8080/",
          "height": 226
        }
      },
      "source": [
        "np.random.seed(3)\n",
        "images = np.random.randn(4, 3, 3, 2)\n",
        "padded_images = pad_images(images, 2)\n",
        "\n",
        "assert images.shape == (4, 3, 3, 2)\n",
        "assert padded_images.shape == (4, 7, 7, 2)\n",
        "\n",
        "print(f'images.shape={images.shape}')\n",
        "print(f'padded_images.shape={padded_images.shape}')\n",
        "\n",
        "figure, axes = plt.subplots(1, 2)\n",
        "\n",
        "image = images[0, :, :, 0]\n",
        "axes[0].set_title('Original Image')\n",
        "axes[0].imshow(image)\n",
        "\n",
        "padded_image = padded_images[0, :, :, 0]\n",
        "axes[1].set_title('Padded Image')\n",
        "axes[1].imshow(padded_image)\n",
        "plt.show()"
      ],
      "execution_count": 4,
      "outputs": [
        {
          "output_type": "stream",
          "text": [
            "images.shape=(4, 3, 3, 2)\n",
            "padded_images.shape=(4, 7, 7, 2)\n"
          ],
          "name": "stdout"
        },
        {
          "output_type": "display_data",
          "data": {
            "image/png": "[encoded data removed]",
            "text/plain": [
              "<Figure size 360x288 with 2 Axes>"
            ]
          },
          "metadata": {
            "tags": []
          }
        }
      ]
    },
    {
      "cell_type": "code",
      "metadata": {
        "id": "Dk-ML42pcFm2"
      },
      "source": [
        "def conv_step(patch_rev, weights, bias):\n",
        "    z = np.multiply(patch_prev, weights)\n",
        "    z = np.sum(z)\n",
        "    z = z + float(bias)\n",
        "\n",
        "    return z"
      ],
      "execution_count": 5,
      "outputs": []
    },
    {
      "cell_type": "code",
      "metadata": {
        "id": "dl4S_O8ER-_B"
      },
      "source": [
        "def conv_step(patch_prev, weights, bias):\n",
        "    '''Perform convolution operation using a filter defined by weights on a patch\n",
        "    of the output activation of the previous layer.\n",
        "\n",
        "    - Args\n",
        "        patch_prev: A patch(slice) of the input volume\n",
        "                    of shape (filter_size, filter_size, n_channels_prev)\n",
        "        weights: Weights contained in a window(tensor)\n",
        "                 of shape (filter_size, filter_size, n_channels_prev)\n",
        "        bias: Bias contained in a window of shape (1, 1, 1)\n",
        "\n",
        "    - Returns\n",
        "        z; a scalar.\n",
        "        The result of convoluation operation on the given patch with weights and bias\n",
        "    '''\n",
        "    z = np.multiply(patch_prev, weights) # element-wise product\n",
        "    z = np.sum(z) # add all elements; complete the convolution operation\n",
        "    z = z + float(bias)\n",
        "\n",
        "    return z"
      ],
      "execution_count": 6,
      "outputs": []
    },
    {
      "cell_type": "code",
      "metadata": {
        "id": "Zbu1XHl-XCcB",
        "outputId": "d970747a-d241-46da-9c20-a2a24c2ecc34",
        "colab": {
          "base_uri": "https://localhost:8080/",
          "height": 34
        }
      },
      "source": [
        "np.random.seed(1)\n",
        "patch_prev = np.random.randn(4, 4, 3)\n",
        "weights = np.random.randn(4, 4, 3)\n",
        "bias = np.random.randn(1, 1, 1)\n",
        "\n",
        "z = conv_step(patch_prev, weights, bias)\n",
        "print(f'z = {z}')"
      ],
      "execution_count": 7,
      "outputs": [
        {
          "output_type": "stream",
          "text": [
            "z = -6.999089450680221\n"
          ],
          "name": "stdout"
        }
      ]
    },
    {
      "cell_type": "code",
      "metadata": {
        "id": "oEVljszsg6-7",
        "outputId": "4e768e0b-3429-4492-aa61-c1d099bc7862",
        "colab": {
          "base_uri": "https://localhost:8080/",
          "height": 34
        }
      },
      "source": [
        "np.random.seed(1)\n",
        "patch_prev = np.random.randn(4, 4, 3)\n",
        "weights = np.random.randn(4, 4, 3)\n",
        "bias = np.random.randn(1, 1, 1)\n",
        "\n",
        "z = conv_step(patch_prev, weights, bias)\n",
        "print(f'z = {z}')"
      ],
      "execution_count": 8,
      "outputs": [
        {
          "output_type": "stream",
          "text": [
            "z = -6.999089450680221\n"
          ],
          "name": "stdout"
        }
      ]
    },
    {
      "cell_type": "code",
      "metadata": {
        "id": "sxkcCgFJXY1w"
      },
      "source": [
        "def conv_forward(A_prev, weights, bias, hparams):\n",
        "    '''Forward propagation for a convolution function.\n",
        "\n",
        "    - Args\n",
        "        A_prev: Output activations of the previous layer\n",
        "                         of shape (m, n_h_pixels_prev, n_w_pixels_prev, n_channels_prev)\n",
        "        weights: Weights of shape (filter_size, filter_size, n_channels_prev, n_channels)\n",
        "        bias: Biases of shape (1, 1, 1, n_channels)\n",
        "        hparams: A dict containing the hyperparameters \"stride\", \"pad_size\", \"pad_value\"\n",
        "\n",
        "    - Returns\n",
        "        Z: The results of convolution operation of shape (m, n_h_pixels, n_w_pixels, n_channels)\n",
        "        chache: Cache of values needed for the backpropagation of convolution operation\n",
        "    '''\n",
        "    (m, n_h_pixels_prev, n_w_pixels_prev, n_channels_prev) = A_prev.shape\n",
        "    (filter_size, filter_size, n_channels_prev, n_channels) = weights.shape\n",
        "    \n",
        "    stride = hparams['stride']\n",
        "    pad_size = hparams['pad_size']\n",
        "    pad_value = hparams['pad_value']\n",
        "\n",
        "    n_h_pixels = ((n_h_pixels_prev + 2*pad_size - filter_size) // stride) + 1\n",
        "    n_w_pixels = ((n_w_pixels_prev + 2*pad_size - filter_size) // stride) + 1\n",
        "    \n",
        "    Z = np.zeros((m, n_h_pixels, n_w_pixels, n_channels))\n",
        "\n",
        "    padded_A_prev = np.pad(A_prev,\n",
        "                            pad_width=((0, 0),\n",
        "                            (pad_size, pad_size),\n",
        "                            (pad_size, pad_size),\n",
        "                            (0, 0)),\n",
        "                            mode='constant',\n",
        "                            constant_values=(pad_value, pad_value))\n",
        "    \n",
        "    for i in range(m):\n",
        "        padded_a_prev = padded_A_prev[i]\n",
        "        for h in range(n_h_pixels):\n",
        "            vertical_start = h * stride\n",
        "            vertical_end = vertical_start + filter_size\n",
        "            for w in range(n_w_pixels):\n",
        "                horizontal_start = w * stride\n",
        "                horizontal_end = horizontal_start + filter_size\n",
        "                for c in range(n_channels):\n",
        "                    a_patch_prev = padded_a_prev[vertical_start:vertical_end, horizontal_start:horizontal_end, :]\n",
        "                    weight = weights[:, :, :, c]\n",
        "                    bias = biases[:, :, :, c]\n",
        "                    z = np.multiply(a_patch_prev, weight)\n",
        "                    z = np.sum(z) + float(bias)\n",
        "                    Z[i, h, w, c] = z\n",
        "\n",
        "    assert(Z.shape == (m, n_h_pixels, n_w_pixels, n_channels))\n",
        "    cache = (A_prev, weights, biases, hparams)\n",
        "    \n",
        "    return Z, cache"
      ],
      "execution_count": 9,
      "outputs": []
    }
  ]
}